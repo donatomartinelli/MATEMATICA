{
    "cells": [
        {
            "cell_type": "code",
            "execution_count": null,
            "metadata": {},
            "outputs": [],
            "source": [
                "import random\n",
                "from IPython.display import display, Math\n",
                "limits = {\n",
                "    r\"\\lim_{x \\to 0} \\dfrac{\\ln(1+x)}{x}\": r\"1\",\n",
                "    r\"\\lim_{f(x) \\to 0} \\dfrac{\\ln(1+f(x))}{f(x)}\": r\"1\"\n",
                "}"
            ]
        }
    ],
    "metadata": {
        "kernelspec": {
            "display_name": "Python 3",
            "language": "python",
            "name": "python3"
        },
        "language_info": {
            "codemirror_mode": {
                "name": "ipython",
                "version": 3
            },
            "file_extension": ".py",
            "mimetype": "text/x-python",
            "name": "python",
            "nbconvert_exporter": "python",
            "pygments_lexer": "ipython3",
            "version": "3.8.5"
        }
    },
    "nbformat": 4,
    "nbformat_minor": 4
}
